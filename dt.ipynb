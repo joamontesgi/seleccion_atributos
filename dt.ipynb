{
 "cells": [
  {
   "cell_type": "code",
   "execution_count": 132,
   "metadata": {},
   "outputs": [],
   "source": [
    "# Dependencias\n",
    "from sklearn.tree import DecisionTreeClassifier\n",
    "import numpy as np\n",
    "import pandas as pd\n",
    "import matplotlib.pyplot as plt\n",
    "from sklearn import datasets\n",
    "from sklearn.metrics import accuracy_score"
   ]
  },
  {
   "cell_type": "code",
   "execution_count": 133,
   "metadata": {},
   "outputs": [],
   "source": [
    "# Se carga el dataset\n",
    "iris = datasets.load_iris()\n",
    "X = iris.data\n",
    "y = iris.target\n",
    "\n",
    "# Características (columnas) del dataset\n",
    "caracteristicas = iris.feature_names"
   ]
  },
  {
   "cell_type": "code",
   "execution_count": 134,
   "metadata": {},
   "outputs": [
    {
     "name": "stdout",
     "output_type": "stream",
     "text": [
      "La importancia de las características es: \n",
      "sepal length (cm):0.0\n",
      "sepal width (cm):0.013333333333333329\n",
      "petal length (cm):0.5640559581320451\n",
      "petal width (cm):0.4226107085346215\n",
      "La sumatoria de las importancias es:  1.0\n",
      "La precisión del modelo es:  1.0\n"
     ]
    }
   ],
   "source": [
    "# Crear una instancia de la clase\n",
    "arbol_decision = DecisionTreeClassifier()\n",
    "\n",
    "# Entrenar el modelo\n",
    "arbol_decision.fit(X, y)\n",
    "\n",
    "y_pred = arbol_decision.predict(X)\n",
    "\n",
    "precision = accuracy_score(y, y_pred)\n",
    "# Obtener la importancia de cada uno de los atributos (características)\n",
    "import_atrib_arbol = arbol_decision.feature_importances_\n",
    "\n",
    "# Imprimir la importancia de cada uno de los atributos (columnas)\n",
    "print(\"La importancia de las características es: \")\n",
    "for i, importance in enumerate(import_atrib_arbol):\n",
    "    print(f\"{caracteristicas[i]}:{import_atrib_arbol[i]}\")\n",
    "\n",
    "impor_total = np.sum(import_atrib_arbol)\n",
    "print(\"La sumatoria de las importancias es: \",impor_total)\n",
    "\n",
    "print(\"La precisión del modelo es: \", precision)"
   ]
  }
 ],
 "metadata": {
  "kernelspec": {
   "display_name": "Python 3",
   "language": "python",
   "name": "python3"
  },
  "language_info": {
   "codemirror_mode": {
    "name": "ipython",
    "version": 3
   },
   "file_extension": ".py",
   "mimetype": "text/x-python",
   "name": "python",
   "nbconvert_exporter": "python",
   "pygments_lexer": "ipython3",
   "version": "3.12.2"
  }
 },
 "nbformat": 4,
 "nbformat_minor": 2
}
